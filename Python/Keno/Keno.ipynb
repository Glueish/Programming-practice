{
 "cells": [
  {
   "cell_type": "code",
   "execution_count": 7,
   "metadata": {},
   "outputs": [],
   "source": [
    "import pandas as pd\n",
    "from matplotlib import pyplot as plt\n",
    "import math"
   ]
  },
  {
   "cell_type": "markdown",
   "metadata": {},
   "source": [
    "# Expected value from playing Keno"
   ]
  },
  {
   "cell_type": "markdown",
   "metadata": {},
   "source": [
    "### The paytable was taken from https://lotto-centrum.com/keno-tabela_wygranych:"
   ]
  },
  {
   "cell_type": "code",
   "execution_count": 8,
   "metadata": {},
   "outputs": [
    {
     "data": {
      "text/html": [
       "<div>\n",
       "<style scoped>\n",
       "    .dataframe tbody tr th:only-of-type {\n",
       "        vertical-align: middle;\n",
       "    }\n",
       "\n",
       "    .dataframe tbody tr th {\n",
       "        vertical-align: top;\n",
       "    }\n",
       "\n",
       "    .dataframe thead th {\n",
       "        text-align: right;\n",
       "    }\n",
       "</style>\n",
       "<table border=\"1\" class=\"dataframe\">\n",
       "  <thead>\n",
       "    <tr style=\"text-align: right;\">\n",
       "      <th></th>\n",
       "      <th>10</th>\n",
       "      <th>9</th>\n",
       "      <th>8</th>\n",
       "      <th>7</th>\n",
       "      <th>6</th>\n",
       "      <th>5</th>\n",
       "      <th>4</th>\n",
       "      <th>3</th>\n",
       "      <th>2</th>\n",
       "      <th>1</th>\n",
       "    </tr>\n",
       "  </thead>\n",
       "  <tbody>\n",
       "    <tr>\n",
       "      <th>0</th>\n",
       "      <td>200000</td>\n",
       "      <td>0</td>\n",
       "      <td>0</td>\n",
       "      <td>0</td>\n",
       "      <td>0</td>\n",
       "      <td>0</td>\n",
       "      <td>0</td>\n",
       "      <td>0</td>\n",
       "      <td>0</td>\n",
       "      <td>0</td>\n",
       "    </tr>\n",
       "    <tr>\n",
       "      <th>1</th>\n",
       "      <td>3000</td>\n",
       "      <td>50000</td>\n",
       "      <td>0</td>\n",
       "      <td>0</td>\n",
       "      <td>0</td>\n",
       "      <td>0</td>\n",
       "      <td>0</td>\n",
       "      <td>0</td>\n",
       "      <td>0</td>\n",
       "      <td>0</td>\n",
       "    </tr>\n",
       "    <tr>\n",
       "      <th>2</th>\n",
       "      <td>250</td>\n",
       "      <td>750</td>\n",
       "      <td>10000</td>\n",
       "      <td>0</td>\n",
       "      <td>0</td>\n",
       "      <td>0</td>\n",
       "      <td>0</td>\n",
       "      <td>0</td>\n",
       "      <td>0</td>\n",
       "      <td>0</td>\n",
       "    </tr>\n",
       "    <tr>\n",
       "      <th>3</th>\n",
       "      <td>32</td>\n",
       "      <td>100</td>\n",
       "      <td>300</td>\n",
       "      <td>1500</td>\n",
       "      <td>0</td>\n",
       "      <td>0</td>\n",
       "      <td>0</td>\n",
       "      <td>0</td>\n",
       "      <td>0</td>\n",
       "      <td>0</td>\n",
       "    </tr>\n",
       "    <tr>\n",
       "      <th>4</th>\n",
       "      <td>6</td>\n",
       "      <td>10</td>\n",
       "      <td>44</td>\n",
       "      <td>66</td>\n",
       "      <td>500</td>\n",
       "      <td>0</td>\n",
       "      <td>0</td>\n",
       "      <td>0</td>\n",
       "      <td>0</td>\n",
       "      <td>0</td>\n",
       "    </tr>\n",
       "    <tr>\n",
       "      <th>5</th>\n",
       "      <td>2</td>\n",
       "      <td>4</td>\n",
       "      <td>8</td>\n",
       "      <td>8</td>\n",
       "      <td>54</td>\n",
       "      <td>250</td>\n",
       "      <td>0</td>\n",
       "      <td>0</td>\n",
       "      <td>0</td>\n",
       "      <td>0</td>\n",
       "    </tr>\n",
       "    <tr>\n",
       "      <th>6</th>\n",
       "      <td>0</td>\n",
       "      <td>2</td>\n",
       "      <td>2</td>\n",
       "      <td>4</td>\n",
       "      <td>6</td>\n",
       "      <td>18</td>\n",
       "      <td>60</td>\n",
       "      <td>0</td>\n",
       "      <td>0</td>\n",
       "      <td>0</td>\n",
       "    </tr>\n",
       "    <tr>\n",
       "      <th>7</th>\n",
       "      <td>0</td>\n",
       "      <td>0</td>\n",
       "      <td>0</td>\n",
       "      <td>2</td>\n",
       "      <td>2</td>\n",
       "      <td>4</td>\n",
       "      <td>4</td>\n",
       "      <td>18</td>\n",
       "      <td>0</td>\n",
       "      <td>0</td>\n",
       "    </tr>\n",
       "    <tr>\n",
       "      <th>8</th>\n",
       "      <td>0</td>\n",
       "      <td>0</td>\n",
       "      <td>0</td>\n",
       "      <td>0</td>\n",
       "      <td>0</td>\n",
       "      <td>0</td>\n",
       "      <td>2</td>\n",
       "      <td>4</td>\n",
       "      <td>14</td>\n",
       "      <td>0</td>\n",
       "    </tr>\n",
       "    <tr>\n",
       "      <th>9</th>\n",
       "      <td>2</td>\n",
       "      <td>0</td>\n",
       "      <td>0</td>\n",
       "      <td>0</td>\n",
       "      <td>0</td>\n",
       "      <td>0</td>\n",
       "      <td>0</td>\n",
       "      <td>0</td>\n",
       "      <td>0</td>\n",
       "      <td>3</td>\n",
       "    </tr>\n",
       "    <tr>\n",
       "      <th>10</th>\n",
       "      <td>6</td>\n",
       "      <td>2</td>\n",
       "      <td>2</td>\n",
       "      <td>0</td>\n",
       "      <td>0</td>\n",
       "      <td>0</td>\n",
       "      <td>0</td>\n",
       "      <td>0</td>\n",
       "      <td>0</td>\n",
       "      <td>0</td>\n",
       "    </tr>\n",
       "  </tbody>\n",
       "</table>\n",
       "</div>"
      ],
      "text/plain": [
       "        10      9      8     7    6    5   4   3   2  1\n",
       "0   200000      0      0     0    0    0   0   0   0  0\n",
       "1     3000  50000      0     0    0    0   0   0   0  0\n",
       "2      250    750  10000     0    0    0   0   0   0  0\n",
       "3       32    100    300  1500    0    0   0   0   0  0\n",
       "4        6     10     44    66  500    0   0   0   0  0\n",
       "5        2      4      8     8   54  250   0   0   0  0\n",
       "6        0      2      2     4    6   18  60   0   0  0\n",
       "7        0      0      0     2    2    4   4  18   0  0\n",
       "8        0      0      0     0    0    0   2   4  14  0\n",
       "9        2      0      0     0    0    0   0   0   0  3\n",
       "10       6      2      2     0    0    0   0   0   0  0"
      ]
     },
     "execution_count": 8,
     "metadata": {},
     "output_type": "execute_result"
    }
   ],
   "source": [
    "table = {\n",
    "    '10': [200_000, 3_000, 250, 32, 6, 2, 0, 0, 0, 2, 6], \n",
    "    '9': [0, 50_000, 750, 100, 10, 4, 2, 0, 0, 0, 2],\n",
    "    '8': [0, 0, 10_000, 300, 44, 8, 2, 0, 0, 0 , 2],\n",
    "    '7': [0, 0, 0, 1_500, 66, 8, 4, 2, 0, 0, 0],\n",
    "    '6': [0, 0, 0, 0, 500, 54, 6, 2, 0, 0, 0],\n",
    "    '5': [0, 0, 0, 0, 0, 250, 18, 4, 0, 0, 0],\n",
    "    '4': [0, 0, 0, 0, 0, 0, 60, 4, 2, 0, 0],\n",
    "    '3': [0, 0, 0, 0, 0, 0, 0, 18, 4, 0, 0],\n",
    "    '2': [0, 0, 0, 0, 0, 0, 0, 0, 14, 0, 0],\n",
    "    '1': [0, 0, 0, 0, 0, 0, 0, 0, 0, 3, 0]\n",
    "}\n",
    "\n",
    "df = pd.DataFrame(data = table)\n",
    "df"
   ]
  },
  {
   "cell_type": "code",
   "execution_count": 9,
   "metadata": {},
   "outputs": [],
   "source": [
    "def expected_value_keno(how_many_numbers_we_choose, paytable):\n",
    "    n = how_many_numbers_we_choose\n",
    "    \n",
    "    winnings = df[str(n)] #extract indicated column\n",
    "    winnings = winnings[10-n:] #skip the first zeros\n",
    "    winnings = winnings.tolist() #convert column (pandas series) to a list\n",
    "    \n",
    "    expected_value = 0\n",
    "    k = len(winnings) - 1\n",
    "    t = len(winnings) - 1\n",
    "    for i in range(len(winnings)):\n",
    "        expected_value += (math.comb(20, k)*math.comb(50, t-k)*winnings[i])/math.comb(70, t)\n",
    "        k -= 1\n",
    "        \n",
    "    return -2 + expected_value"
   ]
  },
  {
   "cell_type": "markdown",
   "metadata": {},
   "source": [
    "### Expected value per one PLN invested in the game as a function of the amount of the chosen numbers"
   ]
  },
  {
   "cell_type": "code",
   "execution_count": 10,
   "metadata": {},
   "outputs": [
    {
     "data": {
      "text/plain": [
       "[[-0.5714285714285714, 1],\n",
       " [-0.4492753623188406, 2],\n",
       " [-0.46547314578005117, 3],\n",
       " [-0.4632973241210826, 4],\n",
       " [-0.4289645537880069, 5],\n",
       " [-0.460250594159057, 6],\n",
       " [-0.4573379058243737, 7],\n",
       " [-0.4572206273450691, 8],\n",
       " [-0.46151644274243886, 9],\n",
       " [-0.45746503338889966, 10]]"
      ]
     },
     "execution_count": 10,
     "metadata": {},
     "output_type": "execute_result"
    }
   ],
   "source": [
    "lst2 = [[expected_value_keno(i, df)/2, i] for i in range(1,11)]\n",
    "lst2"
   ]
  },
  {
   "cell_type": "code",
   "execution_count": 11,
   "metadata": {},
   "outputs": [
    {
     "data": {
      "image/png": "[encoded data removed]",
      "text/plain": [
       "<Figure size 432x288 with 1 Axes>"
      ]
     },
     "metadata": {
      "needs_background": "light"
     },
     "output_type": "display_data"
    }
   ],
   "source": [
    "lst3 = [abs(expected_value_keno(i, df)/2) for i in range(1,11)]\n",
    "fig, ax = plt.subplots()\n",
    "\n",
    "\n",
    "ax.set_title(\"Loss per 1 PLN\", fontsize = 15, fontweight =  'bold')\n",
    "plt.xlabel('Amount of chosen numbers', fontsize = 12, fontweight = 'bold')\n",
    "plt.ylabel('Loss in PLN', fontsize =12, fontweight = 'bold')\n",
    "xmin, xmax = plt.xlim()\n",
    "plt.scatter(range(1,11), lst3, marker = 'o')\n",
    "plt.show()"
   ]
  },
  {
   "cell_type": "markdown",
   "metadata": {},
   "source": [
    "# Conclusions \n",
    "\n",
    "1. The player statistically losses the least amount of money when choosing 5 numbers. The loss amounts to 0.42 PLN for every 1 PLN invested into the game.\n",
    "\n",
    "2. The loss when choosing the different amount of numbers is similar except for choosing only one number. In that case, the loss amounts to 0.57 PLN for every 1 PLN invested into the game"
   ]
  }
 ],
 "metadata": {
  "kernelspec": {
   "display_name": "Python 3 (ipykernel)",
   "language": "python",
   "name": "python3"
  },
  "language_info": {
   "codemirror_mode": {
    "name": "ipython",
    "version": 3
   },
   "file_extension": ".py",
   "mimetype": "text/x-python",
   "name": "python",
   "nbconvert_exporter": "python",
   "pygments_lexer": "ipython3",
   "version": "3.9.12"
  }
 },
 "nbformat": 4,
 "nbformat_minor": 4
}

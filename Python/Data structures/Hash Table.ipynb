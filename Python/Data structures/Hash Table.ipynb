{
 "cells": [
  {
   "cell_type": "code",
   "execution_count": 1,
   "metadata": {},
   "outputs": [],
   "source": [
    "import unittest"
   ]
  },
  {
   "cell_type": "code",
   "execution_count": 2,
   "metadata": {},
   "outputs": [],
   "source": [
    "# Hash Table https://www.youtube.com/watch?v=KyUTuwz_b7Q&ab_channel=ComputerScience\n",
    "\n",
    "class Node:\n",
    "    def __init__(self, value):\n",
    "        self.value = value\n",
    "        self.next = None\n",
    "        \n",
    "    def append(self, next_node):\n",
    "        while self.next is not None:\n",
    "            self = self.next\n",
    "        self.next = next_node\n",
    "            \n",
    "\n",
    "class HashTable:\n",
    "    def __init__(self, lst):\n",
    "        self.table = {}\n",
    "        self.table_size = 4\n",
    "        self.add(lst)\n",
    "        \n",
    "    def add(self, lst):\n",
    "        if isinstance(lst, list):\n",
    "            for name in lst:\n",
    "                if not self.search(name):\n",
    "                    index = self.hash_func(name)\n",
    "                    if index in self.table.keys():\n",
    "                        self.table[index].append(Node(name))\n",
    "                    else:\n",
    "                        self.table[index] = Node(name)\n",
    "                else:\n",
    "                    raise Exception('Name already in the table')\n",
    "                \n",
    "    def hash_func(self, name):\n",
    "        code = 0\n",
    "        for i in name:\n",
    "            code += ord(i)\n",
    "        return code % self.table_size\n",
    "    \n",
    "    def search(self, value):\n",
    "        index = self.hash_func(value)\n",
    "        if index in self.table.keys():\n",
    "            node = self.table[index]\n",
    "            while node is not None:\n",
    "                if node.value == value:\n",
    "                    return True\n",
    "                else:\n",
    "                    node = node.next\n",
    "        return False\n",
    "    \n",
    "    def delete(self, value):\n",
    "        index = self.hash_func(value)\n",
    "        if index in self.table.keys():\n",
    "            node = self.table[index]\n",
    "            if node.value == value:\n",
    "                self.table[index] = node.next\n",
    "                if self.table[index] is None:\n",
    "                    del self.table[index]\n",
    "            else:\n",
    "                while node.next is not None:\n",
    "                    if node.next.value == value:\n",
    "                        if node.next.next is not None:\n",
    "                            node.next = node.next.next\n",
    "                        else:\n",
    "                            node.next = None\n",
    "                    else:\n",
    "                        node = node.next\n",
    "    \n",
    "    def traverse(self):\n",
    "        nodes = [node for node in self.table.values()]\n",
    "        print([node.value for node in nodes])\n",
    "        while any(node.next for node in nodes if node is not None):\n",
    "            nodes = [node.next if node is not None else None for node in nodes]\n",
    "            print([node.value if node is not None else None for node in nodes])\n",
    "        return self"
   ]
  },
  {
   "cell_type": "code",
   "execution_count": 3,
   "metadata": {},
   "outputs": [
    {
     "name": "stderr",
     "output_type": "stream",
     "text": [
      "test_1 (__main__.TestHashTable) ... ok\n",
      "\n",
      "----------------------------------------------------------------------\n",
      "Ran 1 test in 0.002s\n",
      "\n",
      "OK\n"
     ]
    },
    {
     "data": {
      "text/plain": [
       "<unittest.main.TestProgram at 0x193748bef40>"
      ]
     },
     "execution_count": 3,
     "metadata": {},
     "output_type": "execute_result"
    }
   ],
   "source": [
    "class TestHashTable(unittest.TestCase):\n",
    "    def test_1(self):\n",
    "        h1 = HashTable(['Jimmy', 'Joe', 'Janna', 'Muchacho', 'Boy', 'Python', 'Dude', 'Mate','Guy', \"ymmiJ\"])\n",
    "        self.assertEqual(h1.search('Dude'), True)\n",
    "        self.assertEqual(h1.search('ymmiJ'), True)\n",
    "        self.assertEqual(h1.search('bruh'), False)\n",
    "        h1.delete('Dude')\n",
    "        h1.delete('Guy')\n",
    "        self.assertEqual(h1.search('Dude'), False)\n",
    "        self.assertEqual(h1.search('Guy'), False)\n",
    "        \n",
    "unittest.main(argv=[''], verbosity=2, exit=False)"
   ]
  }
 ],
 "metadata": {
  "kernelspec": {
   "display_name": "Python 3 (ipykernel)",
   "language": "python",
   "name": "python3"
  },
  "language_info": {
   "codemirror_mode": {
    "name": "ipython",
    "version": 3
   },
   "file_extension": ".py",
   "mimetype": "text/x-python",
   "name": "python",
   "nbconvert_exporter": "python",
   "pygments_lexer": "ipython3",
   "version": "3.9.12"
  }
 },
 "nbformat": 4,
 "nbformat_minor": 4
}

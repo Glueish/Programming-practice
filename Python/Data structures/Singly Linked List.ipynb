{
 "cells": [
  {
   "cell_type": "code",
   "execution_count": 1,
   "metadata": {},
   "outputs": [],
   "source": [
    "import unittest"
   ]
  },
  {
   "cell_type": "code",
   "execution_count": 2,
   "metadata": {},
   "outputs": [],
   "source": [
    "#Singly Linked List\n",
    "\n",
    "class Node:\n",
    "    def __init__(self, value):\n",
    "        self.value = value\n",
    "        self.child = None\n",
    "\n",
    "class SinglyLinkedList:\n",
    "    def __init__(self, arg):\n",
    "        if isinstance(arg, list):\n",
    "            self.head = Node(arg[0])\n",
    "            self.tail = self.head\n",
    "            self.add_as_tail(arg[1:])\n",
    "        else:\n",
    "            raise TypeError(\"Wrong argument type. Should be a list\")\n",
    "\n",
    "    def add_as_tail(self, lst):\n",
    "        for i in lst:\n",
    "            self.tail.child = Node(i)\n",
    "            self.tail = self.tail.child\n",
    "        return self\n",
    "            \n",
    "    def add_as_head(self, lst):\n",
    "        for i in lst[::-1]:\n",
    "            new_node = Node(i)\n",
    "            new_node.child = self.head\n",
    "            self.head = new_node\n",
    "        return self\n",
    "            \n",
    "    def traverse(self):\n",
    "        lst = []\n",
    "        curr_node = self.head\n",
    "        while curr_node is not None:\n",
    "            lst.append(curr_node.value)\n",
    "            curr_node = curr_node.child\n",
    "        return lst\n",
    "            \n",
    "    def delete(self, index):\n",
    "        curr_node = self.head\n",
    "        for i in range(index-1):\n",
    "            curr_node = curr_node.child\n",
    "        curr_node.child = curr_node.child.child\n",
    "        return self\n",
    "    \n",
    "    def insert(self, value, index):\n",
    "        new_node = Node(value)\n",
    "        if index == 0:\n",
    "            new_node.child = self.head\n",
    "            self.head = new_node\n",
    "        elif index in range(len(self.traverse()) + 1):\n",
    "            curr_node = self.head\n",
    "            for i in range(index-1):\n",
    "                curr_node = curr_node.child\n",
    "            new_node.child = curr_node.child\n",
    "            curr_node.child = new_node\n",
    "        else:\n",
    "            raise IndexError\n",
    "        return self\n",
    "    \n",
    "    def get(self, index):\n",
    "        curr_node = self.head\n",
    "        for i in range(index):\n",
    "            curr_node = curr_node.child\n",
    "        return curr_node\n",
    "    \n",
    "    def __repr__(self):\n",
    "        return str(self.traverse())"
   ]
  },
  {
   "cell_type": "code",
   "execution_count": 4,
   "metadata": {
    "scrolled": true
   },
   "outputs": [
    {
     "name": "stderr",
     "output_type": "stream",
     "text": [
      "test_1 (__main__.TestSinglyLinkedList) ... ok\n",
      "\n",
      "----------------------------------------------------------------------\n",
      "Ran 1 test in 0.006s\n",
      "\n",
      "OK\n"
     ]
    },
    {
     "data": {
      "text/plain": [
       "<unittest.main.TestProgram at 0x248c9305e50>"
      ]
     },
     "execution_count": 4,
     "metadata": {},
     "output_type": "execute_result"
    }
   ],
   "source": [
    "class TestSinglyLinkedList(unittest.TestCase):\n",
    "    def test_1(self):\n",
    "        l1 = SinglyLinkedList([5, 0, 3])\n",
    "        l1.add_as_tail([4, 3])\n",
    "        l1.add_as_head([6])\n",
    "        self.assertEqual(l1.traverse(), [6, 5, 0, 3, 4, 3])\n",
    "        self.assertEqual(l1.head.value, 6)\n",
    "        self.assertEqual(l1.get(4).value, 4)\n",
    "        \n",
    "        l1.delete(4)\n",
    "        self.assertEqual(l1.traverse(), [6, 5, 0, 3, 3])\n",
    "                       \n",
    "unittest.main(argv=[''], verbosity=2, exit=False)"
   ]
  }
 ],
 "metadata": {
  "kernelspec": {
   "display_name": "Python 3 (ipykernel)",
   "language": "python",
   "name": "python3"
  },
  "language_info": {
   "codemirror_mode": {
    "name": "ipython",
    "version": 3
   },
   "file_extension": ".py",
   "mimetype": "text/x-python",
   "name": "python",
   "nbconvert_exporter": "python",
   "pygments_lexer": "ipython3",
   "version": "3.9.12"
  }
 },
 "nbformat": 4,
 "nbformat_minor": 4
}

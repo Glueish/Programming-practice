{
 "cells": [
  {
   "cell_type": "code",
   "execution_count": 1,
   "metadata": {},
   "outputs": [],
   "source": [
    "import unittest"
   ]
  },
  {
   "cell_type": "code",
   "execution_count": 2,
   "metadata": {},
   "outputs": [],
   "source": [
    "# Trie https://edabit.com/challenge/Zzmb2LRbjzq3b2kYw\n",
    "\n",
    "class Node:\n",
    "    def __init__(self, char, flag=False):\n",
    "        self.char = char\n",
    "        self.flag = flag\n",
    "        self.children = []\n",
    "        self.children_chars = [node.char for node in self.children]\n",
    "        \n",
    "class Trie:\n",
    "    def __init__(self):\n",
    "        self.root = Node('')\n",
    "\n",
    "    def insert(self, words):\n",
    "        for word in words:\n",
    "            counter = 0\n",
    "            curr_node = self.root\n",
    "            for char in word:\n",
    "                counter += 1\n",
    "                if char in curr_node.children_chars and counter == len(word):\n",
    "                    for node in curr_node.children:\n",
    "                        if node.char == char:\n",
    "                            node.flag = True\n",
    "                elif char in curr_node.children_chars and counter != len(word):\n",
    "                    for node in curr_node.children:\n",
    "                        if node.char == char:\n",
    "                            curr_node = node\n",
    "                elif char not in curr_node.children_chars and counter == len(word):\n",
    "                    new_node = Node(char, flag=True)\n",
    "                    curr_node.children.append(new_node)\n",
    "                    curr_node.children_chars.append(new_node.char)\n",
    "                    curr_node = new_node\n",
    "                elif char not in curr_node.children_chars and counter != len(word):\n",
    "                    new_node = Node(char, flag=False)\n",
    "                    curr_node.children.append(new_node)\n",
    "                    curr_node.children_chars.append(new_node.char)\n",
    "                    curr_node = new_node\n",
    "                        \n",
    "    def is_word(self, word):\n",
    "        counter = 0\n",
    "        curr_node = self.root\n",
    "        for char in word:\n",
    "            counter += 1\n",
    "            if char not in curr_node.children_chars:\n",
    "                return False\n",
    "            elif char in curr_node.children_chars and len(word) == counter:\n",
    "                for node in curr_node.children:\n",
    "                    if node.char == char:\n",
    "                        return node.flag == True\n",
    "            elif char in curr_node.children_chars and len(word) != counter:\n",
    "                for node in curr_node.children:\n",
    "                    if node.char == char:\n",
    "                        curr_node = node"
   ]
  },
  {
   "cell_type": "code",
   "execution_count": 3,
   "metadata": {
    "scrolled": true
   },
   "outputs": [
    {
     "name": "stderr",
     "output_type": "stream",
     "text": [
      "test_1 (__main__.TestTrie) ... ok\n",
      "\n",
      "----------------------------------------------------------------------\n",
      "Ran 1 test in 0.002s\n",
      "\n",
      "OK\n"
     ]
    },
    {
     "data": {
      "text/plain": [
       "<unittest.main.TestProgram at 0x2f7c3a47ac0>"
      ]
     },
     "execution_count": 3,
     "metadata": {},
     "output_type": "execute_result"
    }
   ],
   "source": [
    "class TestTrie(unittest.TestCase):\n",
    "    def test_1(self):\n",
    "        t1 = Trie()\n",
    "        t1.insert(['halo', 'bruh', 'bru'])\n",
    "        self.assertEqual(len(t1.root.children), 2)\n",
    "        self.assertEqual(t1.root.children_chars, ['h', 'b'])\n",
    "        self.assertEqual(t1.root.children[0].children_chars, ['a'])\n",
    "        self.assertEqual(t1.root.children[1].children[0].char, 'r')\n",
    "        \n",
    "unittest.main(argv=[''], verbosity=2, exit=False)"
   ]
  }
 ],
 "metadata": {
  "kernelspec": {
   "display_name": "Python 3 (ipykernel)",
   "language": "python",
   "name": "python3"
  },
  "language_info": {
   "codemirror_mode": {
    "name": "ipython",
    "version": 3
   },
   "file_extension": ".py",
   "mimetype": "text/x-python",
   "name": "python",
   "nbconvert_exporter": "python",
   "pygments_lexer": "ipython3",
   "version": "3.9.12"
  }
 },
 "nbformat": 4,
 "nbformat_minor": 4
}

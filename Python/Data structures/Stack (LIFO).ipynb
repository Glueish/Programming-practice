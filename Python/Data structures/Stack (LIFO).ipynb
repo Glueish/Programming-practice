{
 "cells": [
  {
   "cell_type": "code",
   "execution_count": 9,
   "metadata": {},
   "outputs": [],
   "source": [
    "import unittest"
   ]
  },
  {
   "cell_type": "code",
   "execution_count": 10,
   "metadata": {},
   "outputs": [],
   "source": [
    "#Stack (LIFO)\n",
    "class Node:\n",
    "    def __init__(self, value):\n",
    "        self.value = value\n",
    "        self.next = None\n",
    "        \n",
    "class Stack:\n",
    "    def __init__(self, lst):\n",
    "        self.top = Node(lst[0])\n",
    "        self.push(lst[1:])\n",
    "        \n",
    "    def push(self, lst):\n",
    "        if isinstance(lst, list):\n",
    "            curr_node = self.top\n",
    "            for i in lst:\n",
    "                temp = Node(i)\n",
    "                temp.next = self.top\n",
    "                self.top = temp\n",
    "        else:\n",
    "            raise TypeError\n",
    "        return self\n",
    "                \n",
    "    def pop(self, n):\n",
    "        for i in range(n):\n",
    "            if self.top is not None:\n",
    "                self.top = self.top.next\n",
    "        return self\n",
    "            \n",
    "    def traverse(self):\n",
    "        lst = []\n",
    "        curr_node = self.top\n",
    "        while curr_node is not None:\n",
    "            lst.append(curr_node)\n",
    "            curr_node = curr_node.next\n",
    "        return [node.value for node in lst]\n",
    "    \n",
    "    def peek(self):\n",
    "        return self.top.value\n",
    "\n",
    "                "
   ]
  },
  {
   "cell_type": "code",
   "execution_count": 11,
   "metadata": {
    "scrolled": true
   },
   "outputs": [
    {
     "name": "stderr",
     "output_type": "stream",
     "text": [
      "test_1 (__main__.TestStack) ... ok\n",
      "\n",
      "----------------------------------------------------------------------\n",
      "Ran 1 test in 0.001s\n",
      "\n",
      "OK\n"
     ]
    },
    {
     "data": {
      "text/plain": [
       "<unittest.main.TestProgram at 0x255c6e3c550>"
      ]
     },
     "execution_count": 11,
     "metadata": {},
     "output_type": "execute_result"
    }
   ],
   "source": [
    "class TestStack(unittest.TestCase):\n",
    "    def test_1(self):\n",
    "        s1 = Stack([1,2,3])\n",
    "        s1.push([4,5])\n",
    "        self.assertEqual(s1.traverse(), [5, 4, 3, 2, 1])\n",
    "        self.assertEqual(s1.peek(), 5)\n",
    "        \n",
    "        s1.pop(3)\n",
    "        self.assertEqual(s1.traverse(), [2, 1])\n",
    "        \n",
    "unittest.main(argv=[''], verbosity=2, exit=False)"
   ]
  }
 ],
 "metadata": {
  "kernelspec": {
   "display_name": "Python 3 (ipykernel)",
   "language": "python",
   "name": "python3"
  },
  "language_info": {
   "codemirror_mode": {
    "name": "ipython",
    "version": 3
   },
   "file_extension": ".py",
   "mimetype": "text/x-python",
   "name": "python",
   "nbconvert_exporter": "python",
   "pygments_lexer": "ipython3",
   "version": "3.9.12"
  }
 },
 "nbformat": 4,
 "nbformat_minor": 4
}

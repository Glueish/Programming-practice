{
 "cells": [
  {
   "cell_type": "code",
   "execution_count": 1,
   "metadata": {},
   "outputs": [],
   "source": [
    "import unittest"
   ]
  },
  {
   "cell_type": "code",
   "execution_count": 2,
   "metadata": {},
   "outputs": [],
   "source": [
    "#Queue (FIFO)\n",
    "class Node:\n",
    "    def __init__(self, value):\n",
    "        self.prev = None\n",
    "        self.value = value\n",
    "        self.next = None\n",
    "\n",
    "class Queue:\n",
    "    def __init__(self, lst):\n",
    "        self.first = Node(lst[0])\n",
    "        self.last = self.first\n",
    "        self.enqueue(lst[1:])\n",
    "    \n",
    "    def enqueue(self, lst):\n",
    "        if isinstance(lst, list):\n",
    "            for i in lst:\n",
    "                self.last.next = Node(i)\n",
    "                self.last.next.prev = self.last\n",
    "                self.last = self.last.next\n",
    "            return self\n",
    "        else:\n",
    "            raise TypeError\n",
    "            \n",
    "    def dequeue(self, n):\n",
    "        for i in range(n):\n",
    "            self.first = self.first.next\n",
    "            self.first.prev = None\n",
    "        return self\n",
    "    \n",
    "    def traverse(self):\n",
    "        lst = []\n",
    "        curr_node = self.last\n",
    "        while curr_node is not None:\n",
    "            lst.append(curr_node)\n",
    "            curr_node = curr_node.prev\n",
    "        return [node.value for node in lst]\n",
    "        \n"
   ]
  },
  {
   "cell_type": "code",
   "execution_count": 6,
   "metadata": {},
   "outputs": [
    {
     "name": "stderr",
     "output_type": "stream",
     "text": [
      "test_1 (__main__.TestQueue) ... ok\n",
      "\n",
      "----------------------------------------------------------------------\n",
      "Ran 1 test in 0.001s\n",
      "\n",
      "OK\n"
     ]
    },
    {
     "data": {
      "text/plain": [
       "<unittest.main.TestProgram at 0x21d698830d0>"
      ]
     },
     "execution_count": 6,
     "metadata": {},
     "output_type": "execute_result"
    }
   ],
   "source": [
    "class TestQueue(unittest.TestCase):\n",
    "    def test_1(self):\n",
    "        s1 = Queue([1,2,3])\n",
    "        s1.enqueue([4,5])\n",
    "        self.assertEqual(s1.traverse(), [5, 4, 3, 2, 1])\n",
    "        \n",
    "        s1.dequeue(2)\n",
    "        self.assertEqual(s1.traverse(), [5, 4, 3])\n",
    "        \n",
    "unittest.main(argv=[''], verbosity=2, exit=False)"
   ]
  }
 ],
 "metadata": {
  "kernelspec": {
   "display_name": "Python 3 (ipykernel)",
   "language": "python",
   "name": "python3"
  },
  "language_info": {
   "codemirror_mode": {
    "name": "ipython",
    "version": 3
   },
   "file_extension": ".py",
   "mimetype": "text/x-python",
   "name": "python",
   "nbconvert_exporter": "python",
   "pygments_lexer": "ipython3",
   "version": "3.9.12"
  }
 },
 "nbformat": 4,
 "nbformat_minor": 4
}

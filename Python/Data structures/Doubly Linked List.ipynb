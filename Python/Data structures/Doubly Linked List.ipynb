{
 "cells": [
  {
   "cell_type": "code",
   "execution_count": 1,
   "metadata": {},
   "outputs": [],
   "source": [
    "import unittest"
   ]
  },
  {
   "cell_type": "code",
   "execution_count": 2,
   "metadata": {},
   "outputs": [],
   "source": [
    "#Doubly Linked List\n",
    "\n",
    "class Node:\n",
    "    def __init__(self, value):\n",
    "        self.parent = None\n",
    "        self.value = value\n",
    "        self.child = None\n",
    "        \n",
    "class DoublyLinkedList:\n",
    "    def __init__(self, value):\n",
    "        self.lst = []\n",
    "        if type(value) == list:\n",
    "            self.head = Node(value[0])\n",
    "            self.lst.append(self.head)\n",
    "            self.currentNode = self.head\n",
    "            self.add_as_tail(value[1:])\n",
    "        else:\n",
    "            self.head = Node(value)\n",
    "            self.lst.append(self.head)\n",
    "            self.currentNode = self.head\n",
    "    \n",
    "    def add_as_tail(self, value):\n",
    "        if type(value) == list:\n",
    "            for i in value:\n",
    "                parent = self.currentNode\n",
    "                self.currentNode.child = Node(i)\n",
    "                self.currentNode = self.currentNode.child\n",
    "                self.lst.append(self.currentNode)\n",
    "                self.currentNode.parent = parent\n",
    "                self.tail = self.currentNode\n",
    "        else:\n",
    "            parent = self.currentNode\n",
    "            self.currentNode.child = Node(value)\n",
    "            self.currentNode = self.currentNode.child\n",
    "            self.lst.append(self.currentNode)\n",
    "            self.currentNode.parent = parent\n",
    "            self.tail = self.currentNode\n",
    "        \n",
    "    def add_as_head(self, value):\n",
    "        if type(value) == list:\n",
    "            for i in value[::-1]:\n",
    "                self.currentNode = Node(i)\n",
    "                self.head.parent = self.currentNode\n",
    "                self.currentNode.child = self.head\n",
    "                self.head = self.currentNode\n",
    "                self.lst.insert(0, self.head)\n",
    "        else:\n",
    "            self.currentNode = Node(value)\n",
    "            self.head.parent = self.currentNode\n",
    "            self.currentNode.child = self.head\n",
    "            self.head = self.currentNode\n",
    "            self.lst.insert(0, self.head)\n",
    "                \n",
    "                \n",
    "    def traverse(self):\n",
    "        return [i.value for i in self.lst]\n",
    "    \n",
    "    def __repr__(self):\n",
    "        return str(self.traverse())\n",
    "\n",
    "                \n",
    "        "
   ]
  },
  {
   "cell_type": "code",
   "execution_count": 3,
   "metadata": {
    "scrolled": true
   },
   "outputs": [
    {
     "name": "stderr",
     "output_type": "stream",
     "text": [
      "test_1 (__main__.TestDoublyLinkedList) ... ok\n",
      "\n",
      "----------------------------------------------------------------------\n",
      "Ran 1 test in 0.002s\n",
      "\n",
      "OK\n"
     ]
    },
    {
     "data": {
      "text/plain": [
       "<unittest.main.TestProgram at 0x1f4227de160>"
      ]
     },
     "execution_count": 3,
     "metadata": {},
     "output_type": "execute_result"
    }
   ],
   "source": [
    "class TestDoublyLinkedList(unittest.TestCase):\n",
    "    def test_1(self):\n",
    "        l1 = DoublyLinkedList([5, 0, 3])\n",
    "        l1.add_as_tail([4, 3])\n",
    "        l1.add_as_head(6)\n",
    "        self.assertEqual(l1.traverse(), [6, 5, 0, 3, 4, 3])\n",
    "        self.assertEqual(l1.head.value, 6)\n",
    "                       \n",
    "unittest.main(argv=[''], verbosity=2, exit=False)"
   ]
  }
 ],
 "metadata": {
  "kernelspec": {
   "display_name": "Python 3 (ipykernel)",
   "language": "python",
   "name": "python3"
  },
  "language_info": {
   "codemirror_mode": {
    "name": "ipython",
    "version": 3
   },
   "file_extension": ".py",
   "mimetype": "text/x-python",
   "name": "python",
   "nbconvert_exporter": "python",
   "pygments_lexer": "ipython3",
   "version": "3.9.12"
  }
 },
 "nbformat": 4,
 "nbformat_minor": 4
}
